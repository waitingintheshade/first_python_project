{
 "cells": [
  {
   "cell_type": "code",
   "execution_count": 1,
   "id": "c9bddae9-9862-45b1-a5be-7c420f9d8da0",
   "metadata": {},
   "outputs": [
    {
     "name": "stdout",
     "output_type": "stream",
     "text": [
      "Hello, JupyterLab!\n"
     ]
    }
   ],
   "source": [
    "print(\"Hello, Github!\")\n"
   ]
  },
  {
   "cell_type": "code",
   "execution_count": null,
   "id": "95ab9062-dd41-42db-b62f-bec6fc490866",
   "metadata": {},
   "outputs": [],
   "source": []
  }
 ],
 "metadata": {
  "kernelspec": {
   "display_name": "Python 3 (ipykernel)",
   "language": "python",
   "name": "python3"
  },
  "language_info": {
   "codemirror_mode": {
    "name": "ipython",
    "version": 3
   },
   "file_extension": ".py",
   "mimetype": "text/x-python",
   "name": "python",
   "nbconvert_exporter": "python",
   "pygments_lexer": "ipython3",
   "version": "3.12.2"
  }
 },
 "nbformat": 4,
 "nbformat_minor": 5
}
